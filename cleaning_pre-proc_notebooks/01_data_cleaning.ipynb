{
 "cells": [
  {
   "cell_type": "markdown",
   "metadata": {},
   "source": [
    "## Data Cleaning and Pre-Processing\n",
    "* This file deals with cleaning and pruning the dataset.\n",
    "* It also sets up the necessary data for further  exploratory and predictive analysis.\n",
    "### Importing libraries"
   ]
  },
  {
   "cell_type": "code",
   "execution_count": 3,
   "metadata": {},
   "outputs": [],
   "source": [
    "import pandas as pd\n",
    "import numpy as np"
   ]
  },
  {
   "cell_type": "markdown",
   "metadata": {},
   "source": [
    "### Raw Data\n",
    "* Importing dataset - 'daily_ranking.csv\n",
    "*  The above dataset contains Spotify's Top 100 Worldwide rankings for 50 regions for every day from 2017-2018, along with 13 features of each track.\n",
    "* Obtain dimesions of dataset, attributes such as columns, number of null values etc. \n",
    "The dataset is pruned in size to make it easier for handling\n",
    "#### The original dataset 'daily_ranking.csv' has NOT been uploaded due to it's large size. It can be found at https://www.kaggle.com/davafons/top-100-spotify-songs-with-audio-feat-20172018"
   ]
  },
  {
   "cell_type": "code",
   "execution_count": 2,
   "metadata": {},
   "outputs": [
    {
     "name": "stdout",
     "output_type": "stream",
     "text": [
      "(3184489, 22) \n",
      " Index(['Position', 'Track_Name', 'Artist', 'Streams', 'URL', 'year', 'month',\n",
      "       'day', 'Region', 'danceability', 'energy', 'key', 'loudness', 'mode',\n",
      "       'speechiness', 'acousticness', 'instrumentalness', 'liveness',\n",
      "       'valence', 'tempo', 'duration_ms', 'time_signature'],\n",
      "      dtype='object') \n",
      " Position            0.000000\n",
      "Track_Name          0.040101\n",
      "Artist              0.040101\n",
      "Streams             0.000000\n",
      "URL                 0.000000\n",
      "year                0.000000\n",
      "month               0.000000\n",
      "day                 0.000000\n",
      "Region              0.000000\n",
      "danceability        0.000000\n",
      "energy              0.000000\n",
      "key                 0.000000\n",
      "loudness            0.000000\n",
      "mode                0.000000\n",
      "speechiness         0.000000\n",
      "acousticness        0.000000\n",
      "instrumentalness    0.000000\n",
      "liveness            0.000000\n",
      "valence             0.000000\n",
      "tempo               0.000000\n",
      "duration_ms         0.000000\n",
      "time_signature      0.000000\n",
      "dtype: float64\n",
      "['ee' 'cr' 'pt' 'gr' 'br' 'es' 'lu' 'ca' 'id' 'lt' 'fr' 'my' 'ie' 'ar'\n",
      " 'gb' 'nz' 'dk' 'jp' 'nl' 'de' 'cz' 'is' 'hn' 'gt' 'at' 'hu' 'hk' 'bg'\n",
      " 'bo' 'us' 'au' 'lv' 'ec' 'do' 'no' 'py' 'pe' 'ch' 'cl' 'pl' 'pa' 'be'\n",
      " 'fi' 'it' 'mt' 'ni' 'co' 'mx' 'ph' 'global']\n"
     ]
    },
    {
     "data": {
      "text/html": [
       "<div>\n",
       "<style scoped>\n",
       "    .dataframe tbody tr th:only-of-type {\n",
       "        vertical-align: middle;\n",
       "    }\n",
       "\n",
       "    .dataframe tbody tr th {\n",
       "        vertical-align: top;\n",
       "    }\n",
       "\n",
       "    .dataframe thead th {\n",
       "        text-align: right;\n",
       "    }\n",
       "</style>\n",
       "<table border=\"1\" class=\"dataframe\">\n",
       "  <thead>\n",
       "    <tr style=\"text-align: right;\">\n",
       "      <th></th>\n",
       "      <th>Position</th>\n",
       "      <th>Track_Name</th>\n",
       "      <th>Artist</th>\n",
       "      <th>Streams</th>\n",
       "      <th>URL</th>\n",
       "      <th>year</th>\n",
       "      <th>month</th>\n",
       "      <th>day</th>\n",
       "      <th>Region</th>\n",
       "      <th>danceability</th>\n",
       "      <th>...</th>\n",
       "      <th>loudness</th>\n",
       "      <th>mode</th>\n",
       "      <th>speechiness</th>\n",
       "      <th>acousticness</th>\n",
       "      <th>instrumentalness</th>\n",
       "      <th>liveness</th>\n",
       "      <th>valence</th>\n",
       "      <th>tempo</th>\n",
       "      <th>duration_ms</th>\n",
       "      <th>time_signature</th>\n",
       "    </tr>\n",
       "  </thead>\n",
       "  <tbody>\n",
       "    <tr>\n",
       "      <th>0</th>\n",
       "      <td>1</td>\n",
       "      <td>Starboy</td>\n",
       "      <td>The Weeknd</td>\n",
       "      <td>1950</td>\n",
       "      <td>https://open.spotify.com/track/5aAx2yezTd8zXrk...</td>\n",
       "      <td>2017</td>\n",
       "      <td>1</td>\n",
       "      <td>1</td>\n",
       "      <td>ee</td>\n",
       "      <td>0.681</td>\n",
       "      <td>...</td>\n",
       "      <td>-7.028</td>\n",
       "      <td>1</td>\n",
       "      <td>0.2820</td>\n",
       "      <td>0.1650</td>\n",
       "      <td>0.000003</td>\n",
       "      <td>0.1340</td>\n",
       "      <td>0.535</td>\n",
       "      <td>186.054</td>\n",
       "      <td>230453</td>\n",
       "      <td>4</td>\n",
       "    </tr>\n",
       "    <tr>\n",
       "      <th>1</th>\n",
       "      <td>2</td>\n",
       "      <td>Tuesday</td>\n",
       "      <td>Burak Yeter</td>\n",
       "      <td>1727</td>\n",
       "      <td>https://open.spotify.com/track/7abpmGpF7PGep2r...</td>\n",
       "      <td>2017</td>\n",
       "      <td>1</td>\n",
       "      <td>1</td>\n",
       "      <td>ee</td>\n",
       "      <td>0.839</td>\n",
       "      <td>...</td>\n",
       "      <td>-6.084</td>\n",
       "      <td>0</td>\n",
       "      <td>0.0810</td>\n",
       "      <td>0.0159</td>\n",
       "      <td>0.022800</td>\n",
       "      <td>0.0569</td>\n",
       "      <td>0.640</td>\n",
       "      <td>98.972</td>\n",
       "      <td>241875</td>\n",
       "      <td>4</td>\n",
       "    </tr>\n",
       "    <tr>\n",
       "      <th>2</th>\n",
       "      <td>3</td>\n",
       "      <td>Closer</td>\n",
       "      <td>The Chainsmokers</td>\n",
       "      <td>1692</td>\n",
       "      <td>https://open.spotify.com/track/7BKLCZ1jbUBVqRi...</td>\n",
       "      <td>2017</td>\n",
       "      <td>1</td>\n",
       "      <td>1</td>\n",
       "      <td>ee</td>\n",
       "      <td>0.748</td>\n",
       "      <td>...</td>\n",
       "      <td>-5.599</td>\n",
       "      <td>1</td>\n",
       "      <td>0.0338</td>\n",
       "      <td>0.4140</td>\n",
       "      <td>0.000000</td>\n",
       "      <td>0.1110</td>\n",
       "      <td>0.661</td>\n",
       "      <td>95.010</td>\n",
       "      <td>244960</td>\n",
       "      <td>4</td>\n",
       "    </tr>\n",
       "    <tr>\n",
       "      <th>3</th>\n",
       "      <td>4</td>\n",
       "      <td>Alone</td>\n",
       "      <td>Alan Walker</td>\n",
       "      <td>1649</td>\n",
       "      <td>https://open.spotify.com/track/0JiVRyTJcJnmlwC...</td>\n",
       "      <td>2017</td>\n",
       "      <td>1</td>\n",
       "      <td>1</td>\n",
       "      <td>ee</td>\n",
       "      <td>0.676</td>\n",
       "      <td>...</td>\n",
       "      <td>-3.194</td>\n",
       "      <td>1</td>\n",
       "      <td>0.0458</td>\n",
       "      <td>0.1860</td>\n",
       "      <td>0.000405</td>\n",
       "      <td>0.1210</td>\n",
       "      <td>0.157</td>\n",
       "      <td>97.019</td>\n",
       "      <td>161200</td>\n",
       "      <td>4</td>\n",
       "    </tr>\n",
       "    <tr>\n",
       "      <th>4</th>\n",
       "      <td>5</td>\n",
       "      <td>Rockabye (feat. Sean Paul &amp; Anne-Marie)</td>\n",
       "      <td>Clean Bandit</td>\n",
       "      <td>1638</td>\n",
       "      <td>https://open.spotify.com/track/5knuzwU65gJK7IF...</td>\n",
       "      <td>2017</td>\n",
       "      <td>1</td>\n",
       "      <td>1</td>\n",
       "      <td>ee</td>\n",
       "      <td>0.720</td>\n",
       "      <td>...</td>\n",
       "      <td>-4.068</td>\n",
       "      <td>0</td>\n",
       "      <td>0.0523</td>\n",
       "      <td>0.4060</td>\n",
       "      <td>0.000000</td>\n",
       "      <td>0.1800</td>\n",
       "      <td>0.742</td>\n",
       "      <td>101.965</td>\n",
       "      <td>251088</td>\n",
       "      <td>4</td>\n",
       "    </tr>\n",
       "  </tbody>\n",
       "</table>\n",
       "<p>5 rows × 22 columns</p>\n",
       "</div>"
      ],
      "text/plain": [
       "   Position                               Track_Name            Artist  \\\n",
       "0         1                                  Starboy        The Weeknd   \n",
       "1         2                                  Tuesday       Burak Yeter   \n",
       "2         3                                   Closer  The Chainsmokers   \n",
       "3         4                                    Alone       Alan Walker   \n",
       "4         5  Rockabye (feat. Sean Paul & Anne-Marie)      Clean Bandit   \n",
       "\n",
       "   Streams                                                URL  year  month  \\\n",
       "0     1950  https://open.spotify.com/track/5aAx2yezTd8zXrk...  2017      1   \n",
       "1     1727  https://open.spotify.com/track/7abpmGpF7PGep2r...  2017      1   \n",
       "2     1692  https://open.spotify.com/track/7BKLCZ1jbUBVqRi...  2017      1   \n",
       "3     1649  https://open.spotify.com/track/0JiVRyTJcJnmlwC...  2017      1   \n",
       "4     1638  https://open.spotify.com/track/5knuzwU65gJK7IF...  2017      1   \n",
       "\n",
       "   day Region  danceability  ...  loudness  mode  speechiness  acousticness  \\\n",
       "0    1     ee         0.681  ...    -7.028     1       0.2820        0.1650   \n",
       "1    1     ee         0.839  ...    -6.084     0       0.0810        0.0159   \n",
       "2    1     ee         0.748  ...    -5.599     1       0.0338        0.4140   \n",
       "3    1     ee         0.676  ...    -3.194     1       0.0458        0.1860   \n",
       "4    1     ee         0.720  ...    -4.068     0       0.0523        0.4060   \n",
       "\n",
       "   instrumentalness  liveness  valence    tempo  duration_ms  time_signature  \n",
       "0          0.000003    0.1340    0.535  186.054       230453               4  \n",
       "1          0.022800    0.0569    0.640   98.972       241875               4  \n",
       "2          0.000000    0.1110    0.661   95.010       244960               4  \n",
       "3          0.000405    0.1210    0.157   97.019       161200               4  \n",
       "4          0.000000    0.1800    0.742  101.965       251088               4  \n",
       "\n",
       "[5 rows x 22 columns]"
      ]
     },
     "execution_count": 2,
     "metadata": {},
     "output_type": "execute_result"
    }
   ],
   "source": [
    "daily_ranks = pd.read_csv ('daily_ranking.csv') #Load dataset\n",
    "print(daily_ranks.shape,'\\n', daily_ranks.columns,'\\n',daily_ranks.isnull().mean()*100)\n",
    "print(daily_ranks.Region.unique())\n",
    "daily_ranks.head(5) #peek at first five rows"
   ]
  },
  {
   "cell_type": "markdown",
   "metadata": {},
   "source": [
    "### Cleaning Data\n",
    "* Drop unwanted columns - Streams, URL\n",
    "* Drop rows with ranks > 50 (reducing size of dataset for easier handling and analysis)\n",
    "* Drop null values\n",
    "* Convert 'year', 'month' and 'day' columns to single 'Date' column\n",
    "* Pruned dataset written to csv file 'cleaned_ranks.csv' for reference"
   ]
  },
  {
   "cell_type": "code",
   "execution_count": 3,
   "metadata": {},
   "outputs": [
    {
     "name": "stdout",
     "output_type": "stream",
     "text": [
      "Position            0.0\n",
      "Track_Name          0.0\n",
      "Artist              0.0\n",
      "year                0.0\n",
      "month               0.0\n",
      "day                 0.0\n",
      "Region              0.0\n",
      "danceability        0.0\n",
      "energy              0.0\n",
      "key                 0.0\n",
      "loudness            0.0\n",
      "mode                0.0\n",
      "speechiness         0.0\n",
      "acousticness        0.0\n",
      "instrumentalness    0.0\n",
      "liveness            0.0\n",
      "valence             0.0\n",
      "tempo               0.0\n",
      "duration_ms         0.0\n",
      "time_signature      0.0\n",
      "dtype: float64\n",
      "Index(['Position', 'Track_Name', 'Artist', 'Region', 'danceability', 'energy',\n",
      "       'key', 'loudness', 'mode', 'speechiness', 'acousticness',\n",
      "       'instrumentalness', 'liveness', 'valence', 'tempo', 'duration_ms',\n",
      "       'time_signature', 'Date'],\n",
      "      dtype='object')\n"
     ]
    }
   ],
   "source": [
    "daily_ranks.drop(['Streams','URL'], axis = 1, inplace = True) \n",
    "daily_ranks.drop(daily_ranks[daily_ranks['Position']>50]. index, axis=0, inplace=True)\n",
    "\n",
    "daily_ranks.dropna(subset = [\"Track_Name\"], inplace=True)\n",
    "print((daily_ranks.isnull().mean())*100)\n",
    "\n",
    "daily_ranks['Date']=pd.to_datetime(daily_ranks[['year','month','day']])\n",
    "daily_ranks.drop(['year','month','day'], axis = 1, inplace = True) \n",
    "\n",
    "print(daily_ranks.columns)\n",
    "daily_ranks.to_csv('cleaned_ranks.csv',index=False)"
   ]
  },
  {
   "cell_type": "markdown",
   "metadata": {},
   "source": [
    "### Track List\n",
    "* Get list of unique tracks in datset, along with Artist. \n",
    "* Written to csv file 'track_list' for later reference."
   ]
  },
  {
   "cell_type": "code",
   "execution_count": 4,
   "metadata": {},
   "outputs": [],
   "source": [
    "cleaned_ranks=pd.read_csv('~/SongRecommender/new_data/cleaned_ranks.csv')\n",
    "tracks=cleaned_ranks[['Track_Name','Artist']].sort_values(by='Track_Name')\n",
    "tracks.drop_duplicates(subset =\"Track_Name\",keep = 'first', inplace = True)\n",
    "tracks.to_csv('track_list.csv',index=False)\n",
    "\n",
    "tracks.head(5)\n"
   ]
  },
  {
   "cell_type": "markdown",
   "metadata": {},
   "source": [
    "### Song Features\n",
    "* Get list of unique songs and their Features.\n",
    "* Written to a csv 'song_features.csv'.\n",
    "* This values in this file are later used for clustering to find similarities between songs. "
   ]
  },
  {
   "cell_type": "code",
   "execution_count": 7,
   "metadata": {},
   "outputs": [
    {
     "output_type": "execute_result",
     "data": {
      "text/plain": "                          Track_Name  danceability  energy  key  loudness  \\\n316205        #DansLeTierquar (Lyon)         0.755   0.600    6    -6.235   \n314811   #DansLeTierquar (Marseille)         0.803   0.798    4    -6.483   \n315449      #DansLeTierquar (Nantes)         0.805   0.612    2    -8.139   \n1041522                #FleKKsinonem         0.774   0.814    2    -4.963   \n590560                           #JM         0.841   0.638    2    -7.616   \n\n         mode  speechiness  acousticness  instrumentalness  liveness  valence  \\\n316205      0        0.170       0.25800          0.000000    0.0848    0.370   \n314811      0        0.388       0.42800          0.000000    0.1080    0.188   \n315449      1        0.442       0.25800          0.000000    0.1160    0.303   \n1041522     1        0.212       0.04630          0.000000    0.1400    0.499   \n590560      1        0.169       0.00612          0.000003    0.0772    0.316   \n\n           tempo  duration_ms  time_signature  \n316205   160.023       101544               4  \n314811   135.942       115334               4  \n315449   155.036       102983               4  \n1041522  146.001       346118               4  \n590560   100.021       211625               4  ",
      "text/html": "<div>\n<style scoped>\n    .dataframe tbody tr th:only-of-type {\n        vertical-align: middle;\n    }\n\n    .dataframe tbody tr th {\n        vertical-align: top;\n    }\n\n    .dataframe thead th {\n        text-align: right;\n    }\n</style>\n<table border=\"1\" class=\"dataframe\">\n  <thead>\n    <tr style=\"text-align: right;\">\n      <th></th>\n      <th>Track_Name</th>\n      <th>danceability</th>\n      <th>energy</th>\n      <th>key</th>\n      <th>loudness</th>\n      <th>mode</th>\n      <th>speechiness</th>\n      <th>acousticness</th>\n      <th>instrumentalness</th>\n      <th>liveness</th>\n      <th>valence</th>\n      <th>tempo</th>\n      <th>duration_ms</th>\n      <th>time_signature</th>\n    </tr>\n  </thead>\n  <tbody>\n    <tr>\n      <th>316205</th>\n      <td>#DansLeTierquar (Lyon)</td>\n      <td>0.755</td>\n      <td>0.600</td>\n      <td>6</td>\n      <td>-6.235</td>\n      <td>0</td>\n      <td>0.170</td>\n      <td>0.25800</td>\n      <td>0.000000</td>\n      <td>0.0848</td>\n      <td>0.370</td>\n      <td>160.023</td>\n      <td>101544</td>\n      <td>4</td>\n    </tr>\n    <tr>\n      <th>314811</th>\n      <td>#DansLeTierquar (Marseille)</td>\n      <td>0.803</td>\n      <td>0.798</td>\n      <td>4</td>\n      <td>-6.483</td>\n      <td>0</td>\n      <td>0.388</td>\n      <td>0.42800</td>\n      <td>0.000000</td>\n      <td>0.1080</td>\n      <td>0.188</td>\n      <td>135.942</td>\n      <td>115334</td>\n      <td>4</td>\n    </tr>\n    <tr>\n      <th>315449</th>\n      <td>#DansLeTierquar (Nantes)</td>\n      <td>0.805</td>\n      <td>0.612</td>\n      <td>2</td>\n      <td>-8.139</td>\n      <td>1</td>\n      <td>0.442</td>\n      <td>0.25800</td>\n      <td>0.000000</td>\n      <td>0.1160</td>\n      <td>0.303</td>\n      <td>155.036</td>\n      <td>102983</td>\n      <td>4</td>\n    </tr>\n    <tr>\n      <th>1041522</th>\n      <td>#FleKKsinonem</td>\n      <td>0.774</td>\n      <td>0.814</td>\n      <td>2</td>\n      <td>-4.963</td>\n      <td>1</td>\n      <td>0.212</td>\n      <td>0.04630</td>\n      <td>0.000000</td>\n      <td>0.1400</td>\n      <td>0.499</td>\n      <td>146.001</td>\n      <td>346118</td>\n      <td>4</td>\n    </tr>\n    <tr>\n      <th>590560</th>\n      <td>#JM</td>\n      <td>0.841</td>\n      <td>0.638</td>\n      <td>2</td>\n      <td>-7.616</td>\n      <td>1</td>\n      <td>0.169</td>\n      <td>0.00612</td>\n      <td>0.000003</td>\n      <td>0.0772</td>\n      <td>0.316</td>\n      <td>100.021</td>\n      <td>211625</td>\n      <td>4</td>\n    </tr>\n  </tbody>\n</table>\n</div>"
     },
     "metadata": {},
     "execution_count": 7
    }
   ],
   "source": [
    "song_features=(cleaned_ranks.drop(['Artist','Region','Position','Date'], axis = 1))\n",
    "song_features.drop_duplicates(subset =\"Track_Name\",keep = 'first', inplace = True)\n",
    "song_features.sort_values(by='Track_Name',inplace=True)\n",
    "song_features.to_csv('song_features.csv',index=False)\n",
    "song_features.head(5)"
   ]
  },
  {
   "cell_type": "code",
   "execution_count": 9,
   "metadata": {},
   "outputs": [
    {
     "output_type": "stream",
     "name": "stdout",
     "text": "8524\n"
    }
   ],
   "source": [
    "print(len(song_features['Track_Name'].unique()))"
   ]
  },
  {
   "cell_type": "markdown",
   "metadata": {},
   "source": [
    "### Borda Counts\n",
    "* In order to find the relative ordering between tracks (overall, and also within region) in terms of popularity, the borda count system of voting was used. \n",
    "* Borda Count -  If an item has n items below it in the ranking, it is given a score of n. \n"
   ]
  },
  {
   "cell_type": "code",
   "execution_count": 5,
   "metadata": {},
   "outputs": [
    {
     "output_type": "execute_result",
     "data": {
      "text/plain": "                                          Track_Name            Artist  \\\n0                                            Starboy        The Weeknd   \n1                                            Tuesday       Burak Yeter   \n2                                             Closer  The Chainsmokers   \n3                                              Alone       Alan Walker   \n4            Rockabye (feat. Sean Paul & Anne-Marie)      Clean Bandit   \n5  I Don’t Wanna Live Forever (Fifty Shades Darke...              ZAYN   \n6                                      Black Beatles      Rae Sremmurd   \n7                               Say You Won't Let Go      James Arthur   \n8                                   I Feel It Coming        The Weeknd   \n9                                    Let Me Love You          DJ Snake   \n\n   Position Region        Date  borda_count  \n0         1     ee  2017-01-01           50  \n1         2     ee  2017-01-01           49  \n2         3     ee  2017-01-01           48  \n3         4     ee  2017-01-01           47  \n4         5     ee  2017-01-01           46  \n5         6     ee  2017-01-01           45  \n6         7     ee  2017-01-01           44  \n7         8     ee  2017-01-01           43  \n8         9     ee  2017-01-01           42  \n9        10     ee  2017-01-01           41  ",
      "text/html": "<div>\n<style scoped>\n    .dataframe tbody tr th:only-of-type {\n        vertical-align: middle;\n    }\n\n    .dataframe tbody tr th {\n        vertical-align: top;\n    }\n\n    .dataframe thead th {\n        text-align: right;\n    }\n</style>\n<table border=\"1\" class=\"dataframe\">\n  <thead>\n    <tr style=\"text-align: right;\">\n      <th></th>\n      <th>Track_Name</th>\n      <th>Artist</th>\n      <th>Position</th>\n      <th>Region</th>\n      <th>Date</th>\n      <th>borda_count</th>\n    </tr>\n  </thead>\n  <tbody>\n    <tr>\n      <th>0</th>\n      <td>Starboy</td>\n      <td>The Weeknd</td>\n      <td>1</td>\n      <td>ee</td>\n      <td>2017-01-01</td>\n      <td>50</td>\n    </tr>\n    <tr>\n      <th>1</th>\n      <td>Tuesday</td>\n      <td>Burak Yeter</td>\n      <td>2</td>\n      <td>ee</td>\n      <td>2017-01-01</td>\n      <td>49</td>\n    </tr>\n    <tr>\n      <th>2</th>\n      <td>Closer</td>\n      <td>The Chainsmokers</td>\n      <td>3</td>\n      <td>ee</td>\n      <td>2017-01-01</td>\n      <td>48</td>\n    </tr>\n    <tr>\n      <th>3</th>\n      <td>Alone</td>\n      <td>Alan Walker</td>\n      <td>4</td>\n      <td>ee</td>\n      <td>2017-01-01</td>\n      <td>47</td>\n    </tr>\n    <tr>\n      <th>4</th>\n      <td>Rockabye (feat. Sean Paul &amp; Anne-Marie)</td>\n      <td>Clean Bandit</td>\n      <td>5</td>\n      <td>ee</td>\n      <td>2017-01-01</td>\n      <td>46</td>\n    </tr>\n    <tr>\n      <th>5</th>\n      <td>I Don’t Wanna Live Forever (Fifty Shades Darke...</td>\n      <td>ZAYN</td>\n      <td>6</td>\n      <td>ee</td>\n      <td>2017-01-01</td>\n      <td>45</td>\n    </tr>\n    <tr>\n      <th>6</th>\n      <td>Black Beatles</td>\n      <td>Rae Sremmurd</td>\n      <td>7</td>\n      <td>ee</td>\n      <td>2017-01-01</td>\n      <td>44</td>\n    </tr>\n    <tr>\n      <th>7</th>\n      <td>Say You Won't Let Go</td>\n      <td>James Arthur</td>\n      <td>8</td>\n      <td>ee</td>\n      <td>2017-01-01</td>\n      <td>43</td>\n    </tr>\n    <tr>\n      <th>8</th>\n      <td>I Feel It Coming</td>\n      <td>The Weeknd</td>\n      <td>9</td>\n      <td>ee</td>\n      <td>2017-01-01</td>\n      <td>42</td>\n    </tr>\n    <tr>\n      <th>9</th>\n      <td>Let Me Love You</td>\n      <td>DJ Snake</td>\n      <td>10</td>\n      <td>ee</td>\n      <td>2017-01-01</td>\n      <td>41</td>\n    </tr>\n  </tbody>\n</table>\n</div>"
     },
     "metadata": {},
     "execution_count": 5
    }
   ],
   "source": [
    "# daily_ranks=pd.read_csv('data/cleaned_ranks.csv')\n",
    "borda_counts=cleaned_ranks[['Track_Name','Artist','Position','Region','Date']]\n",
    "borda_counts['borda_count'] = borda_counts.apply(lambda row: 51-row.Position, axis = 1) \n",
    "borda_counts.to_csv('borda_counts.csv',index=False)\n",
    "borda_counts.head(10)"
   ]
  },
  {
   "cell_type": "code",
   "execution_count": 6,
   "metadata": {},
   "outputs": [
    {
     "output_type": "execute_result",
     "data": {
      "text/plain": "  Region       Track_Name   Rank\n0     us    XO TOUR Llif3  14596\n1     us  Congratulations  13560\n2     us          HUMBLE.  12093\n3     us             SAD!  11613\n4     us     Lucid Dreams   9942",
      "text/html": "<div>\n<style scoped>\n    .dataframe tbody tr th:only-of-type {\n        vertical-align: middle;\n    }\n\n    .dataframe tbody tr th {\n        vertical-align: top;\n    }\n\n    .dataframe thead th {\n        text-align: right;\n    }\n</style>\n<table border=\"1\" class=\"dataframe\">\n  <thead>\n    <tr style=\"text-align: right;\">\n      <th></th>\n      <th>Region</th>\n      <th>Track_Name</th>\n      <th>Rank</th>\n    </tr>\n  </thead>\n  <tbody>\n    <tr>\n      <th>0</th>\n      <td>us</td>\n      <td>XO TOUR Llif3</td>\n      <td>14596</td>\n    </tr>\n    <tr>\n      <th>1</th>\n      <td>us</td>\n      <td>Congratulations</td>\n      <td>13560</td>\n    </tr>\n    <tr>\n      <th>2</th>\n      <td>us</td>\n      <td>HUMBLE.</td>\n      <td>12093</td>\n    </tr>\n    <tr>\n      <th>3</th>\n      <td>us</td>\n      <td>SAD!</td>\n      <td>11613</td>\n    </tr>\n    <tr>\n      <th>4</th>\n      <td>us</td>\n      <td>Lucid Dreams</td>\n      <td>9942</td>\n    </tr>\n  </tbody>\n</table>\n</div>"
     },
     "metadata": {},
     "execution_count": 6
    }
   ],
   "source": [
    "regional_ranks=borda_counts.groupby(['Region',\"Track_Name\"])[\"borda_count\"].sum().reset_index()\n",
    "regional_ranks.rename(columns={'borda_count':'Rank'}, inplace = True)\n",
    "regional_ranks.sort_values(by=['Region','Rank'], inplace=True, ascending= False, ignore_index=True)\n",
    "regional_ranks.to_csv('regional_ranks.csv',index=False)\n",
    "regional_ranks.head()"
   ]
  },
  {
   "cell_type": "code",
   "execution_count": 7,
   "metadata": {},
   "outputs": [
    {
     "output_type": "execute_result",
     "data": {
      "text/plain": "   index Region     Track_Name   Rank\n0  15966     gb   Shape of You  12592\n1  15967     gb      New Rules  10938\n2  15968     gb  Unforgettable   9783\n3  15969     gb         Havana   9493\n4  15970     gb       rockstar   9154",
      "text/html": "<div>\n<style scoped>\n    .dataframe tbody tr th:only-of-type {\n        vertical-align: middle;\n    }\n\n    .dataframe tbody tr th {\n        vertical-align: top;\n    }\n\n    .dataframe thead th {\n        text-align: right;\n    }\n</style>\n<table border=\"1\" class=\"dataframe\">\n  <thead>\n    <tr style=\"text-align: right;\">\n      <th></th>\n      <th>index</th>\n      <th>Region</th>\n      <th>Track_Name</th>\n      <th>Rank</th>\n    </tr>\n  </thead>\n  <tbody>\n    <tr>\n      <th>0</th>\n      <td>15966</td>\n      <td>gb</td>\n      <td>Shape of You</td>\n      <td>12592</td>\n    </tr>\n    <tr>\n      <th>1</th>\n      <td>15967</td>\n      <td>gb</td>\n      <td>New Rules</td>\n      <td>10938</td>\n    </tr>\n    <tr>\n      <th>2</th>\n      <td>15968</td>\n      <td>gb</td>\n      <td>Unforgettable</td>\n      <td>9783</td>\n    </tr>\n    <tr>\n      <th>3</th>\n      <td>15969</td>\n      <td>gb</td>\n      <td>Havana</td>\n      <td>9493</td>\n    </tr>\n    <tr>\n      <th>4</th>\n      <td>15970</td>\n      <td>gb</td>\n      <td>rockstar</td>\n      <td>9154</td>\n    </tr>\n  </tbody>\n</table>\n</div>"
     },
     "metadata": {},
     "execution_count": 7
    }
   ],
   "source": [
    "global_df=regional_ranks[regional_ranks['Region']=='gb'].reset_index()\n",
    "global_df.to_csv('global_df.csv', index=False)\n",
    "global_df.head()"
   ]
  },
  {
   "cell_type": "code",
   "execution_count": null,
   "metadata": {},
   "outputs": [],
   "source": []
  }
 ],
 "metadata": {
  "file_extension": ".py",
  "kernelspec": {
   "display_name": "Python 3.7.4 64-bit ('base': conda)",
   "language": "python",
   "name": "python37464bitbasecondad012a44a650f45058c40ce762f760b38"
  },
  "language_info": {
   "codemirror_mode": {
    "name": "ipython",
    "version": 3
   },
   "file_extension": ".py",
   "mimetype": "text/x-python",
   "name": "python",
   "nbconvert_exporter": "python",
   "pygments_lexer": "ipython3",
   "version": "3.7.4-final"
  },
  "mimetype": "text/x-python",
  "name": "python",
  "npconvert_exporter": "python",
  "pygments_lexer": "ipython3",
  "version": 3
 },
 "nbformat": 4,
 "nbformat_minor": 2
}